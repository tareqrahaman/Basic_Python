{
 "cells": [
  {
   "cell_type": "code",
   "execution_count": 1,
   "id": "7a235510-2970-4ef8-bde1-35b5c3459a55",
   "metadata": {},
   "outputs": [
    {
     "name": "stdout",
     "output_type": "stream",
     "text": [
      "The sum of all integers is = 2683\n"
     ]
    }
   ],
   "source": [
    "#approach-1\n",
    "#error handled of having different data types inside the inner list\n",
    "\n",
    "#given list\n",
    "l = [50,1,50,\"ridoy\",60,70,2,80,60,90,800,\"ridoy\", 50,60,80,60,90,45,\"inception\",50,405,50,60,50,80, \"BD\", 50.60, True,[50,60,90,\"Tareq\",80,10,50]]\n",
    "\n",
    "#finding sum of all integers\n",
    "sum = 0;\n",
    "for item in l:\n",
    "    if type(item) == int:\n",
    "        sum += item\n",
    "    elif(type(item) == list):\n",
    "        for ili in item:            #ili = inner list item\n",
    "            if type(ili) == int:\n",
    "                sum += ili\n",
    "\n",
    "#printing output\n",
    "print(\"The sum of all integers is =\",sum)"
   ]
  },
  {
   "cell_type": "code",
   "execution_count": 2,
   "id": "65a5c641-68e9-428c-b775-d51ccdee0dc1",
   "metadata": {},
   "outputs": [
    {
     "name": "stdout",
     "output_type": "stream",
     "text": [
      "The sum of all integers is = 2683\n"
     ]
    }
   ],
   "source": [
    "#approach-2\n",
    "#using the syntax for accessing inner list - [][]\n",
    "\n",
    "#given list\n",
    "l = [50,1,50,\"ridoy\",60,70,2,80,60,90,800,\"ridoy\", 50,60,80,60,90,45,\"inception\",50,405,50,60,50,80, \"BD\", 50.60, True,[50,60,90,80,10,50]]\n",
    "\n",
    "#finding sum of all integers\n",
    "sum = 0;\n",
    "for item in l:\n",
    "    if type(item) == int:\n",
    "        sum += item\n",
    "    elif(type(item) == list):\n",
    "        l_position = l.index(item)\n",
    "        for i in range(len(item)):\n",
    "             sum += l[l_position][i]\n",
    "            \n",
    "#priting output\n",
    "print(\"The sum of all integers is =\",sum)"
   ]
  },
  {
   "cell_type": "code",
   "execution_count": 2,
   "id": "0249280e-1799-4db1-952d-a892d6d125e8",
   "metadata": {},
   "outputs": [
    {
     "name": "stdout",
     "output_type": "stream",
     "text": [
      "The sum of all integers is = 2683\n"
     ]
    }
   ],
   "source": [
    "#approach-3\n",
    "#using an additional list (error handled)\n",
    "\n",
    "#given list\n",
    "l = [50,1,50,\"ridoy\",60,70,2,80,60,90,800,\"ridoy\", 50,60,80,60,90,45,\"inception\",50,405,50,60,50,80, \"BD\", 50.60, True,[50,60,90,\"Ridoy\",80,10,50]]\n",
    "\n",
    "#finding sum of all integers\n",
    "int_list = []\n",
    "for item in l:\n",
    "    if type(item) == int:\n",
    "        int_list.append(item)\n",
    "    elif(type(item) == list):\n",
    "        for ili in item:            #ili = inner list item\n",
    "            if type(ili) == int:\n",
    "                int_list.append(ili)\n",
    "                \n",
    "#priting output\n",
    "print(\"The sum of all integers is =\",sum(int_list))"
   ]
  },
  {
   "cell_type": "markdown",
   "id": "b3e0e4df",
   "metadata": {},
   "source": []
  },
  {
   "cell_type": "code",
   "execution_count": null,
   "id": "1de67fc3-f8ff-4833-8d7b-546e8181b0d0",
   "metadata": {},
   "outputs": [],
   "source": []
  }
 ],
 "metadata": {
  "kernelspec": {
   "display_name": "Python 3 (ipykernel)",
   "language": "python",
   "name": "python3"
  },
  "language_info": {
   "codemirror_mode": {
    "name": "ipython",
    "version": 3
   },
   "file_extension": ".py",
   "mimetype": "text/x-python",
   "name": "python",
   "nbconvert_exporter": "python",
   "pygments_lexer": "ipython3",
   "version": "3.12.3"
  }
 },
 "nbformat": 4,
 "nbformat_minor": 5
}
