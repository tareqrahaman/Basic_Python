{
 "cells": [
  {
   "cell_type": "code",
   "execution_count": null,
   "metadata": {},
   "outputs": [],
   "source": [
    "#problem-2\n",
    "def sortIt(names):\n",
    "    s = ''\n",
    "    l = names.split(\"-\")\n",
    "    l.sort()\n",
    "    for i in l:\n",
    "        s = s+'-'+i\n",
    "    return s[1:]\n",
    "\n",
    "names = \"green-red-yellow-black-white\"\n",
    "res = sortIt(names)\n",
    "print(res)"
   ]
  },
  {
   "cell_type": "code",
   "execution_count": null,
   "metadata": {},
   "outputs": [],
   "source": [
    "#problem-3\n",
    "#employee database\n",
    "employees = [\n",
    "    {\n",
    "        'fname':'Bappy',\n",
    "        'lname':'Ahmed',\n",
    "        'age' : 33,\n",
    "        'grade':'skilled'\n",
    "    },\n",
    "    {\n",
    "        'fname':'Alex',\n",
    "        'lname':'Musk',\n",
    "        'age' : 34,\n",
    "        'grade':'semi-skilled'\n",
    "    },\n",
    "    {\n",
    "        'fname':'Bunny',\n",
    "        'lname':'Singh',\n",
    "        'age' : 35,\n",
    "        'grade':'highly-skilled'\n",
    "    },\n",
    "    {\n",
    "        'fname':'Anurag',\n",
    "        'lname':'Kumar',\n",
    "        'age' : 30,\n",
    "        'grade':'skilled'\n",
    "    },\n",
    "    {\n",
    "        'fname':'Abhinav',\n",
    "        'lname':'Sharma',\n",
    "        'age' : 37,\n",
    "        'grade':'highly-skilled'\n",
    "    }\n",
    "]\n",
    "\n",
    "list(map(lambda x:x[\"fname\"]+\" \"+x[\"lname\"] if x[\"grade\"] == \"highly-skilled\" else \"\",employees))"
   ]
  }
 ],
 "metadata": {
  "language_info": {
   "name": "python"
  }
 },
 "nbformat": 4,
 "nbformat_minor": 2
}
